{
 "cells": [
  {
   "cell_type": "markdown",
   "id": "b23fd375",
   "metadata": {},
   "source": [
    "# Task 1\n",
    "## Prediction using Supervised ML"
   ]
  },
  {
   "cell_type": "markdown",
   "id": "3079e572",
   "metadata": {},
   "source": [
    "In this task we will need to predict the percentage of an student based on the no. of study hours.\n",
    "Here we will predict score if a student studies for 9.25 hrs/day."
   ]
  },
  {
   "cell_type": "code",
   "execution_count": 5,
   "id": "abb0b38c",
   "metadata": {},
   "outputs": [],
   "source": [
    "import pandas as pd\n",
    "import numpy as np  \n",
    "import matplotlib.pyplot as plt  \n",
    "import seaborn as sns\n",
    "%matplotlib inline"
   ]
  },
  {
   "cell_type": "markdown",
   "id": "9f04a863",
   "metadata": {},
   "source": [
    "### Data importing and data details\n"
   ]
  },
  {
   "cell_type": "code",
   "execution_count": 6,
   "id": "f21934dc",
   "metadata": {},
   "outputs": [
    {
     "name": "stdout",
     "output_type": "stream",
     "text": [
      "Data imported successfully\n"
     ]
    }
   ],
   "source": [
    "# reading data from the given link\n",
    "urls = \"http://bit.ly/w-data\"\n",
    "data = pd.read_csv(urls)\n",
    "print(\"Data imported successfully\")"
   ]
  },
  {
   "cell_type": "code",
   "execution_count": 14,
   "id": "f932502c",
   "metadata": {},
   "outputs": [
    {
     "name": "stdout",
     "output_type": "stream",
     "text": [
      "    Hours  Scores\n",
      "0     2.5      21\n",
      "1     5.1      47\n",
      "2     3.2      27\n",
      "3     8.5      75\n",
      "4     3.5      30\n",
      "5     1.5      20\n",
      "6     9.2      88\n",
      "7     5.5      60\n",
      "8     8.3      81\n",
      "9     2.7      25\n",
      "10    7.7      85\n",
      "11    5.9      62\n",
      "12    4.5      41\n",
      "13    3.3      42\n",
      "14    1.1      17\n",
      "15    8.9      95\n",
      "16    2.5      30\n",
      "17    1.9      24\n",
      "18    6.1      67\n",
      "19    7.4      69\n",
      "20    2.7      30\n",
      "21    4.8      54\n",
      "22    3.8      35\n",
      "23    6.9      76\n",
      "24    7.8      86\n"
     ]
    }
   ],
   "source": [
    "# displaying the dataset\n",
    "print(data)"
   ]
  },
  {
   "cell_type": "code",
   "execution_count": 7,
   "id": "b55a2e91",
   "metadata": {},
   "outputs": [
    {
     "name": "stdout",
     "output_type": "stream",
     "text": [
      "           Hours     Scores\n",
      "count  25.000000  25.000000\n",
      "mean    5.012000  51.480000\n",
      "std     2.525094  25.286887\n",
      "min     1.100000  17.000000\n",
      "25%     2.700000  30.000000\n",
      "50%     4.800000  47.000000\n",
      "75%     7.400000  75.000000\n",
      "max     9.200000  95.000000\n"
     ]
    }
   ],
   "source": [
    "# data description \n",
    "print(data.describe())"
   ]
  },
  {
   "cell_type": "markdown",
   "id": "31b156af",
   "metadata": {},
   "source": [
    "### Plotting the distribution for the data given"
   ]
  },
  {
   "cell_type": "code",
   "execution_count": 14,
   "id": "df0ffe7c",
   "metadata": {},
   "outputs": [
    {
     "data": {
      "image/png": "[encoded data removed]",
      "text/plain": [
       "<Figure size 432x288 with 1 Axes>"
      ]
     },
     "metadata": {
      "needs_background": "light"
     },
     "output_type": "display_data"
    }
   ],
   "source": [
    "data.plot(x='Hours', y='Scores', style='o',color='black')  \n",
    "plt.title('Hours vs Percentage')  \n",
    "plt.xlabel('Hours Studied')  \n",
    "plt.ylabel('Score')  \n",
    "plt.show()"
   ]
  },
  {
   "cell_type": "code",
   "execution_count": 7,
   "id": "1ecb0a32",
   "metadata": {},
   "outputs": [
    {
     "name": "stdout",
     "output_type": "stream",
     "text": [
      "Feature Selection Successfull \n"
     ]
    }
   ],
   "source": [
    "# Features Selection\n",
    "X = data.iloc[:, :-1].values  \n",
    "Y = data.iloc[:, 1].values\n",
    "print(\"Feature Selection Successfull \")"
   ]
  },
  {
   "cell_type": "markdown",
   "id": "d0ab9d17",
   "metadata": {},
   "source": [
    "### Training the data set"
   ]
  },
  {
   "cell_type": "code",
   "execution_count": 8,
   "id": "5d9d6969",
   "metadata": {},
   "outputs": [
    {
     "name": "stdout",
     "output_type": "stream",
     "text": [
      "Training set values assigned \n",
      "Completed Training\n"
     ]
    }
   ],
   "source": [
    "# importing modules required \n",
    "from sklearn.model_selection import train_test_split\n",
    "from sklearn.linear_model import LinearRegression\n",
    "\n",
    "# Assigning training set values\n",
    "X_train, X_test, Y_train, Y_test = train_test_split(X,Y,test_size=0.3,random_state=7)\n",
    "print(\"Training set values assigned \")\n",
    "\n",
    "# Assigning data to the model \n",
    "model = LinearRegression()  \n",
    "model.fit(X_train, Y_train) \n",
    "\n",
    "print(\"Completed Training\")"
   ]
  },
  {
   "cell_type": "markdown",
   "id": "2dc78534",
   "metadata": {},
   "source": [
    "### Making Predictions"
   ]
  },
  {
   "cell_type": "code",
   "execution_count": 9,
   "id": "17746546",
   "metadata": {},
   "outputs": [],
   "source": [
    "# Predicting the scores\n",
    "Y_pred = model.predict(X_test)\n"
   ]
  },
  {
   "cell_type": "code",
   "execution_count": 10,
   "id": "52296247",
   "metadata": {},
   "outputs": [
    {
     "name": "stdout",
     "output_type": "stream",
     "text": [
      "   Actual  Predicted\n",
      "0      47  52.071856\n",
      "1      20  16.529940\n",
      "2      62  59.970060\n",
      "3      42  34.300898\n",
      "4      27  33.313623\n",
      "5      54  49.110030\n",
      "6      25  28.377246\n",
      "7      30  26.402695\n"
     ]
    }
   ],
   "source": [
    "# comparsions :\n",
    "df = pd.DataFrame({'Actual': Y_test,\n",
    "                   'Predicted': Y_pred})  \n",
    "print(df)"
   ]
  },
  {
   "cell_type": "code",
   "execution_count": 11,
   "id": "2c41413b",
   "metadata": {},
   "outputs": [
    {
     "data": {
      "text/plain": [
       "<AxesSubplot:>"
      ]
     },
     "execution_count": 11,
     "metadata": {},
     "output_type": "execute_result"
    },
    {
     "data": {
      "image/png": "[encoded data removed]",
      "text/plain": [
       "<Figure size 432x288 with 1 Axes>"
      ]
     },
     "metadata": {
      "needs_background": "light"
     },
     "output_type": "display_data"
    }
   ],
   "source": [
    "# plot to compare actual and predicted values\n",
    "df.plot(kind='bar')\n"
   ]
  },
  {
   "cell_type": "markdown",
   "id": "40702124",
   "metadata": {},
   "source": [
    "### Prediction for user defined values"
   ]
  },
  {
   "cell_type": "code",
   "execution_count": 12,
   "id": "f626f53c",
   "metadata": {},
   "outputs": [
    {
     "name": "stdout",
     "output_type": "stream",
     "text": [
      "Enter no of hr for prediction : 9.25\n",
      "[93.04378743]\n"
     ]
    }
   ],
   "source": [
    "x_ip = eval(input(\"Enter no of hr for prediction : \"))\n",
    "predicated_value = model.predict([[x_ip]])\n",
    "print(predicated_value)"
   ]
  },
  {
   "cell_type": "code",
   "execution_count": 13,
   "id": "2ee5c998",
   "metadata": {},
   "outputs": [
    {
     "name": "stdout",
     "output_type": "stream",
     "text": [
      "Mean Absolute Error: 4.556137724550894\n",
      "Mean Squared Error: 23.660237487226112\n"
     ]
    }
   ],
   "source": [
    "# Evaluation of the model :\n",
    "from sklearn import metrics  \n",
    "print('Mean Absolute Error:',metrics.mean_absolute_error(Y_test, Y_pred))\n",
    "print('Mean Squared Error:',metrics.mean_squared_error(Y_test, Y_pred)) "
   ]
  },
  {
   "cell_type": "code",
   "execution_count": null,
   "id": "0797dfc6",
   "metadata": {},
   "outputs": [],
   "source": []
  }
 ],
 "metadata": {
  "kernelspec": {
   "display_name": "Python 3",
   "language": "python",
   "name": "python3"
  },
  "language_info": {
   "codemirror_mode": {
    "name": "ipython",
    "version": 3
   },
   "file_extension": ".py",
   "mimetype": "text/x-python",
   "name": "python",
   "nbconvert_exporter": "python",
   "pygments_lexer": "ipython3",
   "version": "3.8.8"
  }
 },
 "nbformat": 4,
 "nbformat_minor": 5
}
